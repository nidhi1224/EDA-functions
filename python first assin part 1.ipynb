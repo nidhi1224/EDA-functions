{
 "cells": [
  {
   "cell_type": "code",
   "execution_count": 1,
   "id": "8873bcad-eae4-44e6-be6b-99ecce93cc7c",
   "metadata": {},
   "outputs": [
    {
     "name": "stdout",
     "output_type": "stream",
     "text": [
      "1\n",
      "4\n",
      "9\n",
      "16\n",
      "25\n",
      "36\n",
      "49\n",
      "64\n",
      "81\n",
      "100\n"
     ]
    }
   ],
   "source": [
    "# Create a list containing numbers from 1 to 10\n",
    "numbers = list(range(1, 11))  # This creates a list [1, 2, 3, ..., 10]\n",
    "\n",
    "# Use a for loop to print each element squared\n",
    "for num in numbers:\n",
    "    squared = num ** 2\n",
    "    print(squared)\n"
   ]
  },
  {
   "cell_type": "code",
   "execution_count": 2,
   "id": "72843f17-13b3-46c3-85ad-888253e2d527",
   "metadata": {},
   "outputs": [
    {
     "name": "stdout",
     "output_type": "stream",
     "text": [
      "(100, 200, 300, 400, 500)\n"
     ]
    }
   ],
   "source": [
    "# Original tuple\n",
    "original_tuple = (100, 200, 300, 400)\n",
    "\n",
    "# Adding a new element (500) at the end\n",
    "new_tuple = original_tuple + (500,)\n",
    "\n",
    "# Printing the new tuple\n",
    "print(new_tuple)\n"
   ]
  },
  {
   "cell_type": "code",
   "execution_count": 3,
   "id": "6fe7118a-d8b8-4920-8a19-bc82dce222ab",
   "metadata": {},
   "outputs": [
    {
     "name": "stdout",
     "output_type": "stream",
     "text": [
      "{1, 2, 3, 4, 5}\n"
     ]
    }
   ],
   "source": [
    "# Create a list\n",
    "my_list = [1, 2, 3, 1, 2, 3, 4, 5]\n",
    "\n",
    "# Create a set from the list\n",
    "my_set = set(my_list)\n",
    "\n",
    "# Print the set\n",
    "print(my_set)\n"
   ]
  },
  {
   "cell_type": "code",
   "execution_count": 4,
   "id": "0d6ebe53-9a68-4db6-8a35-60ae769fc8e3",
   "metadata": {},
   "outputs": [
    {
     "name": "stdout",
     "output_type": "stream",
     "text": [
      "Name: John Doe\n",
      "Age: 29\n",
      "City: New York\n"
     ]
    }
   ],
   "source": [
    "# Create a dictionary\n",
    "person_info = {\n",
    "    \"name\": \"John Doe\",\n",
    "    \"age\": 29,\n",
    "    \"city\": \"New York\"\n",
    "}\n",
    "\n",
    "# Print each value using its key\n",
    "print(\"Name:\", person_info[\"name\"])\n",
    "print(\"Age:\", person_info[\"age\"])\n",
    "print(\"City:\", person_info[\"city\"])\n"
   ]
  },
  {
   "cell_type": "code",
   "execution_count": 5,
   "id": "713f3fab-3028-4446-8cb9-d9e2b6c8c02a",
   "metadata": {},
   "outputs": [
    {
     "name": "stdout",
     "output_type": "stream",
     "text": [
      "The number 25 is odd.\n"
     ]
    }
   ],
   "source": [
    "# Define the number stored in a variable\n",
    "number = 25  # You can change this number to test different cases\n",
    "\n",
    "# Check if the number is odd or even\n",
    "if number % 2 == 0:\n",
    "    print(f\"The number {number} is even.\")\n",
    "else:\n",
    "    print(f\"The number {number} is odd.\")\n"
   ]
  },
  {
   "cell_type": "code",
   "execution_count": 6,
   "id": "47551ad4-5304-42b5-a25d-4b5b5a2575fd",
   "metadata": {},
   "outputs": [
    {
     "name": "stdout",
     "output_type": "stream",
     "text": [
      "The square of 12 is: 144\n"
     ]
    }
   ],
   "source": [
    "# Define the lambda function to compute the square of a number\n",
    "square = lambda x: x ** 2\n",
    "\n",
    "# Test the lambda function with the value 12\n",
    "result = square(12)\n",
    "\n",
    "# Print the result\n",
    "print(f\"The square of 12 is: {result}\")\n"
   ]
  },
  {
   "cell_type": "code",
   "execution_count": null,
   "id": "e091680d-456a-4696-a783-4b4ae53538ab",
   "metadata": {},
   "outputs": [],
   "source": [
    "6.2 and 7.1 i'm not able to get the syntax correct."
   ]
  }
 ],
 "metadata": {
  "kernelspec": {
   "display_name": "Python 3 (ipykernel)",
   "language": "python",
   "name": "python3"
  },
  "language_info": {
   "codemirror_mode": {
    "name": "ipython",
    "version": 3
   },
   "file_extension": ".py",
   "mimetype": "text/x-python",
   "name": "python",
   "nbconvert_exporter": "python",
   "pygments_lexer": "ipython3",
   "version": "3.11.7"
  }
 },
 "nbformat": 4,
 "nbformat_minor": 5
}
